{
  "nbformat": 4,
  "nbformat_minor": 0,
  "metadata": {
    "colab": {
      "provenance": [],
      "authorship_tag": "ABX9TyMmV8eQsph858igfj5c5rUa",
      "include_colab_link": true
    },
    "kernelspec": {
      "name": "python3",
      "display_name": "Python 3"
    },
    "language_info": {
      "name": "python"
    }
  },
  "cells": [
    {
      "cell_type": "markdown",
      "metadata": {
        "id": "view-in-github",
        "colab_type": "text"
      },
      "source": [
        "<a href=\"https://colab.research.google.com/github/sguillot/CompARE/blob/main/CompARE/scripts/CompARE_Load_GW_GWTC1_example.ipynb\" target=\"_parent\"><img src=\"https://colab.research.google.com/assets/colab-badge.svg\" alt=\"Open In Colab\"/></a>"
      ]
    },
    {
      "cell_type": "code",
      "execution_count": null,
      "metadata": {
        "id": "VBuBJoibM44f"
      },
      "outputs": [],
      "source": [
        "import numpy as np\n",
        " \n",
        "import matplotlib\n",
        "import matplotlib.pyplot as plt\n",
        " \n",
        "import pandas as pd\n",
        "import seaborn as sns\n",
        " \n",
        "from scipy.stats import gaussian_kde\n",
        " \n",
        "import requests\n",
        "import h5py"
      ]
    },
    {
      "cell_type": "markdown",
      "source": [
        "Load GW170817 Samples"
      ],
      "metadata": {
        "id": "UCDGMZU4NKvR"
      }
    },
    {
      "cell_type": "code",
      "source": [
        "# url of public samples from the GWTC-1 release\n",
        "# https://dcc.ligo.org/cgi-bin/DocDB/ShowDocument?.submit=Identifier&docid=P1800370&version= \n",
        "samples_url=\"https://dcc.ligo.org/public/0157/P1800370/004/GW170817_GWTC-1.hdf5\"\n",
        "BNS_file = './GW170817_GWTC-1.hdf5'\n",
        "\n",
        "# download samples and write to file\n",
        "\n",
        "try: # unless we did this earlier\n",
        "  BNS = h5py.File(BNS_file, 'r')\n",
        "except:\n",
        "  r = requests.get(samples_url, allow_redirects=True)\n",
        "  open('GW170817_GWTC-1.hdf5', 'wb').write(r.content)\n",
        "  # read in file \n",
        "  BNS = h5py.File(BNS_file, 'r')"
      ],
      "metadata": {
        "id": "wf7cjKh-NNq7"
      },
      "execution_count": null,
      "outputs": []
    },
    {
      "cell_type": "code",
      "source": [
        "# using the pandas infrastructure to read in samples and keep track of variable names\n",
        "highSpinPos = pd.DataFrame.from_records(np.array(BNS['/IMRPhenomPv2NRT_highSpin_posterior'])) #posterior distribution for high-spin prior\n",
        "highSpinPri = pd.DataFrame.from_records(np.array(BNS['/IMRPhenomPv2NRT_highSpin_prior'])) \n",
        "lowSpinPos = pd.DataFrame.from_records(np.array(BNS['/IMRPhenomPv2NRT_lowSpin_posterior'])) #posterior distribution for low-spin prior\n",
        "lowSpinPri = pd.DataFrame.from_records(np.array(BNS['/IMRPhenomPv2NRT_lowSpin_prior']))\n",
        "# list the samples variables\n",
        "print(highSpinPri.keys())\n",
        "print(highSpinPos.keys())\n",
        "print(lowSpinPos.keys())"
      ],
      "metadata": {
        "id": "5eiqbM-6NSwH"
      },
      "execution_count": null,
      "outputs": []
    },
    {
      "cell_type": "markdown",
      "source": [
        "Load GW190425 Samples"
      ],
      "metadata": {
        "id": "nOF2zBg8Nep-"
      }
    },
    {
      "cell_type": "code",
      "source": [
        "#From public link from LIGO: https://dcc.ligo.org/P2000223/public \n",
        "\n",
        "public_dcc_url= 'https://dcc.ligo.org/public/0169/P2000223/007/' \n",
        "try: # unless we did this earlier\n",
        "  GW190425data = h5py.File('GW190425/GW190425.h5','r') \n",
        "except:\n",
        "  !curl -O {public_dcc_url}\"GW190425.tar\" #Downloads the tar file  \n",
        "  !tar -xvf \"GW190425.tar\" \n",
        "  GW190425data = h5py.File('GW190425/GW190425.h5','r') #Extract content.  \n"
      ],
      "metadata": {
        "id": "4UvkT1giNgfi"
      },
      "execution_count": null,
      "outputs": []
    }
  ]
}